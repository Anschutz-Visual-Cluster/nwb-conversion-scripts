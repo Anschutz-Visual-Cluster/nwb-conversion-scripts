{
 "cells": [
  {
   "cell_type": "code",
   "execution_count": 2,
   "id": "aa59f05c-d451-41c1-b703-f10ea1b63399",
   "metadata": {},
   "outputs": [],
   "source": [
    "from simply_nwb.pipeline import NWBSession\n",
    "import matplotlib.pyplot as plt\n",
    "import numpy as np\n",
    "import pandas as pd\n",
    "import os"
   ]
  },
  {
   "cell_type": "code",
   "execution_count": 3,
   "id": "a89bce2d-2d12-484c-b036-2cc43f65e790",
   "metadata": {
    "scrolled": true
   },
   "outputs": [],
   "source": [
    "foldername = \"C:\\\\Users\\\\minjarec\\\\OneDrive - The University of Colorado Denver\\\\Documents\\\\predict_nwbs\"\n",
    "filename = \"predictive-20231104_unitME_session001-nwb-4-24_13-28-7_putative.nwb\"\n",
    "fullpath = os.path.join(foldername, filename)\n",
    "\n",
    "#foldername = \"C:\\\\Users\\\\minjarec\\\\OneDrive - The University of Colorado Denver\\\\Documents\\\\predict_nwbs\"\n",
    "#filename = \"predictive-20231103_unitME_session001-nwb-4-24_13-28-6_putative.nwb\"\n",
    "#fullpath = os.path.join(foldername, filename)\n",
    "\n",
    "#foldername = \"Z:\\\\AnneData\\\\incorrect_predict_nwbs\"\n",
    "#filename = \"predictive-20231104_unitME_session001-nwb-4-24_13-28-7_putative.nwb\"\n",
    "#fullpath = os.path.join(foldername, filename)"
   ]
  },
  {
   "cell_type": "code",
   "execution_count": 4,
   "id": "2dfc1e17-9e22-48bc-8f11-dc5af10be78f",
   "metadata": {
    "scrolled": true
   },
   "outputs": [],
   "source": [
    "sess = NWBSession(fullpath)"
   ]
  },
  {
   "cell_type": "code",
   "execution_count": 5,
   "id": "66d02bd8-d421-4fe8-85c0-6f3f855051b9",
   "metadata": {},
   "outputs": [
    {
     "data": {
      "text/plain": [
       "['PutativeSaccades', 'PredictSaccades']"
      ]
     },
     "execution_count": 5,
     "metadata": {},
     "output_type": "execute_result"
    }
   ],
   "source": [
    "# List available enrichments in this dataset\n",
    "sess.available_enrichments()"
   ]
  },
  {
   "cell_type": "code",
   "execution_count": 6,
   "id": "a7e6c923-ddbb-4bfb-b44e-bd25938dc189",
   "metadata": {},
   "outputs": [
    {
     "data": {
      "text/plain": [
       "['saccades_predicted_indices',\n",
       " 'saccades_predicted_labels',\n",
       " 'saccades_predicted_nasal_epochs',\n",
       " 'saccades_predicted_nasal_waveforms',\n",
       " 'saccades_predicted_temporal_epochs',\n",
       " 'saccades_predicted_temporal_waveforms',\n",
       " 'saccades_predicted_waveforms']"
      ]
     },
     "execution_count": 6,
     "metadata": {},
     "output_type": "execute_result"
    }
   ],
   "source": [
    "# List out the datasets we have available for a given enrichment\n",
    "sess.available_keys(\"PredictSaccades\")"
   ]
  },
  {
   "cell_type": "code",
   "execution_count": 7,
   "id": "8c13d655-6c77-4572-816c-dce6cb17d618",
   "metadata": {},
   "outputs": [
    {
     "ename": "NameError",
     "evalue": "name 'all_waveforms' is not defined",
     "output_type": "error",
     "traceback": [
      "\u001b[1;31m---------------------------------------------------------------------------\u001b[0m",
      "\u001b[1;31mNameError\u001b[0m                                 Traceback (most recent call last)",
      "Cell \u001b[1;32mIn[7], line 3\u001b[0m\n\u001b[0;32m      1\u001b[0m \u001b[38;5;66;03m# Grab the saccade waveforms\u001b[39;00m\n\u001b[0;32m      2\u001b[0m \u001b[38;5;66;03m# So to get all x saccades we can do\u001b[39;00m\n\u001b[1;32m----> 3\u001b[0m xwaves \u001b[38;5;241m=\u001b[39m \u001b[43mall_waveforms\u001b[49m[:, :, \u001b[38;5;241m0\u001b[39m]\n\u001b[0;32m      4\u001b[0m pred_dirs \u001b[38;5;241m=\u001b[39m sess\u001b[38;5;241m.\u001b[39mpull(\u001b[38;5;124m\"\u001b[39m\u001b[38;5;124mPredictSaccades.saccades_predicted_labels\u001b[39m\u001b[38;5;124m\"\u001b[39m)\n\u001b[0;32m      6\u001b[0m \u001b[38;5;66;03m#CM code\u001b[39;00m\n",
      "\u001b[1;31mNameError\u001b[0m: name 'all_waveforms' is not defined"
     ]
    }
   ],
   "source": [
    "# Grab the saccade waveforms\n",
    "# So to get all x saccades we can do\n",
    "xwaves = all_waveforms[:, :, 0]\n",
    "pred_dirs = sess.pull(\"PredictSaccades.saccades_predicted_labels\")\n",
    "\n",
    "#CM code\n",
    "nasal_epochs = sess.pull(\"PredictSaccades.saccades_predicted_nasal_epochs\")\n",
    "nasal_epochs.shape  # Shape is (saccadenum, (start, end))\n",
    "\n",
    "temporal_epochs = sess.pull(\"PredictSaccades.saccades_predicted_temporal_epochs\")\n",
    "temporal_epochs.shape  # Shape is (saccadenum, (start, end))\n",
    "\n",
    "# Filter out nasal and temporal (1 is nasal)\n",
    "nasal_waveforms = xwaves[pred_dirs == 1]\n",
    "nasal_waveforms.shape  # Shape (saccadenum, time)\n",
    "\n",
    "temporal_waveforms = xwaves[pred_dirs == -1]\n",
    "temporal_waveforms.shape  # Shape (saccadenum, time)\n",
    "\n",
    "#mean nasal and temporal waveforms\n",
    "mean_nasal_waveforms = np.mean(nasal_waveforms, axis=0)\n",
    "mean_temporal_waveforms = np.mean(temporal_waveforms, axis=0)\n",
    "\n",
    "\n",
    "#all_waveforms = sess.pull(\"PredictSaccades.saccades_predicted_temporal_waveforms\")"
   ]
  },
  {
   "cell_type": "code",
   "execution_count": null,
   "id": "5f55bc6d-3c6b-40a8-ba7d-6c5d180a8883",
   "metadata": {},
   "outputs": [],
   "source": [
    "plt.plot(mean_temporal_waveforms)\n",
    "plt.plot(mean_nasal_waveforms)"
   ]
  },
  {
   "cell_type": "code",
   "execution_count": null,
   "id": "dc1d02fc-f077-4171-869f-f4005f248d89",
   "metadata": {},
   "outputs": [],
   "source": [
    "# Shape is (saccade num, time, x&y)\n",
    "all_waveforms.shape\n",
    "print(all_waveforms.shape)\n",
    "\n",
    "#CM code\n",
    "nasal_epochs.shape\n",
    "print(nasal_epochs.shape)\n",
    "\n",
    "nasal_waveforms.shape\n",
    "print(nasal_waveforms.shape)\n",
    "\n",
    "temporal_epochs.shape\n",
    "print(temporal_epochs.shape)\n",
    "\n",
    "temporal_waveforms.shape\n",
    "print(temporal_waveforms.shape)"
   ]
  },
  {
   "cell_type": "code",
   "execution_count": null,
   "id": "7729e759-8ffa-44d0-9825-5aa6fa6f848e",
   "metadata": {},
   "outputs": [],
   "source": [
    "# Let's grab the predicted directions for these saccades\n",
    "pred_dirs"
   ]
  },
  {
   "cell_type": "code",
   "execution_count": null,
   "id": "d8d38deb-00ef-4237-ab01-3e53b828fb05",
   "metadata": {},
   "outputs": [],
   "source": [
    "# Filter out nasal and temporal (1 is nasal)\n",
    "nasal_xsaccades = xwaves[pred_dirs == 1]\n",
    "temporal_xsaccades = xwaves[pred_dirs == -1]\n",
    "print(f\"We have {nasal_xsaccades.shape[0]} nasal saccades\")\n",
    "print(f\"We have {temporal_xsaccades.shape[0]} temporal saccades\")\n",
    "\n",
    "#CM code\n",
    "\n",
    "#nasal_epochs\n",
    "#nasal_xsaccades = xnasal_epochs[pred_dirs == 1]\n",
    "#temporal_xsaccades = xnasal_epochs[pred_dirs == -1]\n",
    "#print(f\"We have {nasal_xsaccades.shape[0]} nasal saccades\")\n",
    "#print(f\"We have {temporal_xsaccades.shape[0]} temporal saccades\")\n",
    "\n",
    "#nasal_waveforms\n",
    "#nasal_xsaccades = xnasal_waveforms[pred_dirs == 1]\n",
    "#temporal_xsaccades = xnasal_waveforms[pred_dirs == -1]\n",
    "#print(f\"We have {nasal_xsaccades.shape[0]} nasal saccades\")\n",
    "#print(f\"We have {temporal_xsaccades.shape[0]} temporal saccades\")\n",
    "\n",
    "#temporal_epochs\n",
    "#nasal_xsaccades = xtemporal_epochs[pred_dirs == 1]\n",
    "#temporal_xsaccades = xwaves[pred_dirs == -1]\n",
    "#print(f\"We have {nasal_xsaccades.shape[0]} nasal saccades\")\n",
    "#print(f\"We have {temporal_xsaccades.shape[0]} temporal saccades\")\n",
    "\n",
    "#temporal_waveforms\n",
    "#nasal_xsaccades = xwaves[pred_dirs == 1]\n",
    "#temporal_xsaccades = xwaves[pred_dirs == -1]\n",
    "#print(f\"We have {nasal_xsaccades.shape[0]} nasal saccades\")\n",
    "#print(f\"We have {temporal_xsaccades.shape[0]} temporal saccades\")"
   ]
  },
  {
   "cell_type": "code",
   "execution_count": 8,
   "id": "0de4a9f8-2f62-4ac8-8046-fba088775536",
   "metadata": {},
   "outputs": [
    {
     "ename": "NameError",
     "evalue": "name 'nasal_xsaccades' is not defined",
     "output_type": "error",
     "traceback": [
      "\u001b[1;31m---------------------------------------------------------------------------\u001b[0m",
      "\u001b[1;31mNameError\u001b[0m                                 Traceback (most recent call last)",
      "Cell \u001b[1;32mIn[8], line 3\u001b[0m\n\u001b[0;32m      1\u001b[0m \u001b[38;5;66;03m# Lets graph the nasal saccades\u001b[39;00m\n\u001b[0;32m      2\u001b[0m fig, ax \u001b[38;5;241m=\u001b[39m plt\u001b[38;5;241m.\u001b[39msubplots()\n\u001b[1;32m----> 3\u001b[0m \u001b[38;5;28;01mfor\u001b[39;00m saccade \u001b[38;5;129;01min\u001b[39;00m \u001b[43mnasal_xsaccades\u001b[49m:\n\u001b[0;32m      4\u001b[0m     ax\u001b[38;5;241m.\u001b[39mplot(saccade)\n\u001b[0;32m      5\u001b[0m     plt\u001b[38;5;241m.\u001b[39mtitle(\u001b[38;5;124m\"\u001b[39m\u001b[38;5;124mAll nasal saccades\u001b[39m\u001b[38;5;124m\"\u001b[39m)\n",
      "\u001b[1;31mNameError\u001b[0m: name 'nasal_xsaccades' is not defined"
     ]
    },
    {
     "data": {
      "image/png": "[encoded data removed]",
      "text/plain": [
       "<Figure size 640x480 with 1 Axes>"
      ]
     },
     "metadata": {},
     "output_type": "display_data"
    }
   ],
   "source": [
    "# Lets graph the nasal saccades\n",
    "fig, ax = plt.subplots()\n",
    "for saccade in nasal_xsaccades:\n",
    "    ax.plot(saccade)\n",
    "    plt.title(\"All nasal saccades\")\n",
    "    \n",
    "\n",
    "\n",
    "\n",
    "#CM code \n",
    "\n",
    "#graph the temporal saccades\n",
    "fig, ax = plt.subplots()\n",
    "for saccade in temporal_xsaccades:\n",
    "    ax.plot(saccade)\n",
    "    plt.title(\"All temporal saccades\")\n",
    "\n",
    "#graph nasal waveforms\n",
    "fig, ax = plt.subplots()\n",
    "for saccade in nasal_waveforms:\n",
    "    ax.plot(saccade)\n",
    "    plt.title(\"Nasal waveforms\")\n",
    "\n",
    "#graph temporal waveforms\n",
    "fig, ax = plt.subplots()\n",
    "for saccade in temporal_waveforms:\n",
    "    ax.plot(saccade)\n",
    "    plt.title(\"Temporal waveforms\")\n",
    "    \n",
    "#graph nasal epochs\n",
    "fig, ax = plt.subplots()\n",
    "ax.hist(np.diff(nasal_epochs, axis=1), bins=20)\n",
    "plt.title(\"Nasal epochs\")\n",
    "\n",
    "#graph temporal epochs\n",
    "fig, ax = plt.subplots()\n",
    "ax.hist(np.diff(temporal_epochs, axis=1), bins=20)\n",
    "plt.title(\"Temporal epochs\")\n",
    "\n"
   ]
  },
  {
   "cell_type": "code",
   "execution_count": null,
   "id": "18b6d654-8e2e-4e56-a8a8-73ee88478432",
   "metadata": {},
   "outputs": [],
   "source": []
  },
  {
   "cell_type": "code",
   "execution_count": null,
   "id": "0228aac8-1bbb-40e8-8040-6be319e95e09",
   "metadata": {},
   "outputs": [],
   "source": []
  }
 ],
 "metadata": {
  "kernelspec": {
   "display_name": "Python 3 (ipykernel)",
   "language": "python",
   "name": "python3"
  },
  "language_info": {
   "codemirror_mode": {
    "name": "ipython",
    "version": 3
   },
   "file_extension": ".py",
   "mimetype": "text/x-python",
   "name": "python",
   "nbconvert_exporter": "python",
   "pygments_lexer": "ipython3",
   "version": "3.12.3"
  }
 },
 "nbformat": 4,
 "nbformat_minor": 5
}
